{
  "nbformat": 4,
  "nbformat_minor": 0,
  "metadata": {
    "colab": {
      "provenance": [],
      "collapsed_sections": [],
      "include_colab_link": true
    },
    "kernelspec": {
      "name": "python3",
      "display_name": "Python 3"
    },
    "language_info": {
      "name": "python"
    }
  },
  "cells": [
    {
      "cell_type": "markdown",
      "metadata": {
        "id": "view-in-github",
        "colab_type": "text"
      },
      "source": [
        "<a href=\"https://colab.research.google.com/github/ykitaguchi77/FLASK/blob/main/Flask%E3%82%92%E7%94%A8%E3%81%84%E3%81%9F%E8%B6%85%E7%B0%A1%E5%8D%98%E3%81%AAWeb%E3%82%A2%E3%83%97%E3%83%AA%E3%82%B1%E3%83%BC%E3%82%B7%E3%83%A7%E3%83%B3.ipynb\" target=\"_parent\"><img src=\"https://colab.research.google.com/assets/colab-badge.svg\" alt=\"Open In Colab\"/></a>"
      ]
    },
    {
      "cell_type": "markdown",
      "metadata": {
        "id": "oekvMTyEtnDs"
      },
      "source": [
        "# 使い方\n",
        "\n",
        "\n",
        "1. ［ランタイム］＞［すべてのセルを実行］\n",
        "\n",
        "2. ［このまま実行］をクリック\n",
        "\n",
        "3. 一番下までスクロール\n",
        "\n"
      ]
    },
    {
      "cell_type": "markdown",
      "metadata": {
        "id": "iuOGJro_nbtm"
      },
      "source": [
        "# 内容"
      ]
    },
    {
      "cell_type": "markdown",
      "metadata": {
        "id": "kHrXqcU6nirR"
      },
      "source": [
        "* Google ColaboratoryでFlaskを使う\n",
        "* ローカルホストでWebアプリケーションを起動する\n",
        "* A + B　の計算結果を表示するだけ\n",
        "\n",
        "\n"
      ]
    },
    {
      "cell_type": "markdown",
      "metadata": {
        "id": "bV8GJwLQn4eI"
      },
      "source": [
        "# 設定"
      ]
    },
    {
      "cell_type": "code",
      "metadata": {
        "id": "yErfu8Teppba"
      },
      "source": [
        "#@title Flask\n",
        "project_name = \"sum_app\" #@param {type:\"string\"}\n"
      ],
      "execution_count": 8,
      "outputs": []
    },
    {
      "cell_type": "code",
      "metadata": {
        "id": "1NPMc6v4pajT"
      },
      "source": [
        "#@title サーバー\n",
        "port = \"8000\" #@param {type:\"string\"}\n",
        "host = True #@param {type:\"boolean\"}\n",
        "from google.colab.output import eval_js\n",
        "host = eval_js(f\"google.colab.kernel.proxyPort({str(port)})\")\n"
      ],
      "execution_count": 9,
      "outputs": []
    },
    {
      "cell_type": "markdown",
      "metadata": {
        "id": "9LCrP_lWn6fK"
      },
      "source": [
        "# ソース"
      ]
    },
    {
      "cell_type": "code",
      "metadata": {
        "id": "bIdGAECjutDv"
      },
      "source": [
        "#@title sum.py\n",
        "sum_py_string = '''\n",
        "\n",
        "from flask import Flask, redirect ,request,render_template,jsonify\n",
        "import json\n",
        "import requests\n",
        "\n",
        "app = Flask(__name__)\n",
        "\n",
        "@app.route(\"/\")\n",
        "def check():\n",
        "    return render_template(\"sum.html\")\n",
        "\n",
        "@app.route(\"/output\", methods=[\"POST\"])\n",
        "def output():\n",
        "    try:\n",
        "        _A = int(request.json[\"_A\"])\n",
        "        _B = int(request.json[\"_B\"])\n",
        "        res = _A + _B\n",
        "        data = {\"result\":res, \"_A\":_A, \"_B\":_B, \"msg\":\"%s + %s = %s\"%(_A,_B,res)}\n",
        "        return jsonify(ResultSet=json.dumps(data)), 200\n",
        "    except Exception as err:\n",
        "        print(err)\n",
        "        data = {\"error\":\"err\"}\n",
        "        return jsonify(ResultSet=json.dumps(data)), 500\n",
        "\n",
        "if __name__ == \"__main__\":\n",
        "    import sys\n",
        "    args = sys.argv\n",
        "    app.run(debug=True, port=args[1])\n",
        "\n",
        "'''.strip()"
      ],
      "execution_count": 10,
      "outputs": []
    },
    {
      "cell_type": "code",
      "metadata": {
        "id": "xvuGHsyZs2l9"
      },
      "source": [
        "#@title sum.html\n",
        "sum_html_string = '''\n",
        "\n",
        "<!doctype html>\n",
        "<html lang=\"en\">\n",
        "<head>\n",
        "    <meta charset=\"utf-8\">\n",
        "    <title>sum app</title>\n",
        "</head>\n",
        "<body>\n",
        "    <input type=\"text\" value=\"0\" name=\"_A\" /> + <input type=\"text\" value=\"0\" name=\"_B\" /> <button id=\"run\">を計算する</button><br/>\n",
        "    <h2>結果</h2>\n",
        "    <script src=\"static/post.js\"></script>\n",
        "</body>\n",
        "</html>\n",
        "\n",
        "'''.strip()"
      ],
      "execution_count": 11,
      "outputs": []
    },
    {
      "cell_type": "code",
      "metadata": {
        "id": "zumg78NVyuid"
      },
      "source": [
        "#@title post.js\n",
        "post_js_string='''\n",
        "\n",
        "fetch(\"https://code.jquery.com/jquery-3.4.1.min.js\").then(r=>{return r.text()}).then(t=>eval(t)).then(()=>{\n",
        "\t$=jQuery;\n",
        "    document.getElementById(\"run\").addEventListener(\"click\",\n",
        "        function(){\n",
        "            values=[...document.querySelectorAll(\"input\")].map(_=>_.value);\n",
        "            $.ajax({\n",
        "                url:\"/output\",\n",
        "                type:\"POST\",\n",
        "                data:JSON.stringify({\"_A\":values[0],\"_B\":values[1]}),\n",
        "                contentType:\"application/json\"\n",
        "            }).done(data=>{\n",
        "                $(document.body).append(JSON.parse(data.ResultSet).msg,\"<br/>\");\n",
        "            }).fail(data=>{\n",
        "                $(document.body).append(\"error\",\"<br/>\")\n",
        "            });\n",
        "        },false);\n",
        "});\n",
        "\n",
        "'''.strip()\n"
      ],
      "execution_count": 12,
      "outputs": []
    },
    {
      "cell_type": "markdown",
      "metadata": {
        "id": "-fKjv-1PtY5W"
      },
      "source": [
        "# プロジェクトの作成"
      ]
    },
    {
      "cell_type": "code",
      "metadata": {
        "id": "L9zu263quYUg"
      },
      "source": [
        "!rm -rf $project_name\n",
        "!mkdir $project_name && mkdir $project_name/templates && mkdir $project_name/static\n",
        "!echo -e '{sum_py_string}' >> $project_name/sum.py\n",
        "!echo -e '{sum_html_string}' >> $project_name/templates/sum.html\n",
        "!echo -e '{post_js_string}' >> $project_name/static/post.js"
      ],
      "execution_count": 13,
      "outputs": []
    },
    {
      "cell_type": "markdown",
      "metadata": {
        "id": "KsbdSLz3szsp"
      },
      "source": [
        "# webサーバーの起動"
      ]
    },
    {
      "cell_type": "code",
      "metadata": {
        "id": "YViD5sGLvYtF",
        "outputId": "e821dc7d-a3cf-4175-f520-e61dd4ab00e3",
        "colab": {
          "base_uri": "https://localhost:8080/"
        }
      },
      "source": [
        "print('①が起動してから、↓のurlにアクセスする')\n",
        "print(host)"
      ],
      "execution_count": 14,
      "outputs": [
        {
          "output_type": "stream",
          "name": "stdout",
          "text": [
            "①が起動してから、↓のurlにアクセスする\n",
            "https://68v05zb9mnc-496ff2e9c6d22116-8000-colab.googleusercontent.com/\n"
          ]
        }
      ]
    },
    {
      "cell_type": "code",
      "metadata": {
        "id": "KHJXd5RD24pd",
        "outputId": "4a15012a-5d12-4091-ab10-c6d7aa3023f6",
        "colab": {
          "base_uri": "https://localhost:8080/"
        }
      },
      "source": [
        "#①\n",
        "!python $project_name/sum.py $port"
      ],
      "execution_count": null,
      "outputs": [
        {
          "output_type": "stream",
          "name": "stdout",
          "text": [
            " * Serving Flask app \"sum\" (lazy loading)\n",
            " * Environment: production\n",
            "\u001b[31m   WARNING: This is a development server. Do not use it in a production deployment.\u001b[0m\n",
            "\u001b[2m   Use a production WSGI server instead.\u001b[0m\n",
            " * Debug mode: on\n",
            " * Running on http://127.0.0.1:8000/ (Press CTRL+C to quit)\n",
            " * Restarting with stat\n",
            " * Debugger is active!\n",
            " * Debugger PIN: 334-166-753\n",
            "127.0.0.1 - - [02/Sep/2022 14:16:58] \"\u001b[37mGET / HTTP/1.1\u001b[0m\" 200 -\n",
            "127.0.0.1 - - [02/Sep/2022 14:16:59] \"\u001b[37mGET /static/post.js HTTP/1.1\u001b[0m\" 200 -\n",
            "127.0.0.1 - - [02/Sep/2022 14:16:59] \"\u001b[33mGET /favicon.ico HTTP/1.1\u001b[0m\" 404 -\n",
            "127.0.0.1 - - [02/Sep/2022 14:17:11] \"\u001b[37mPOST /output HTTP/1.1\u001b[0m\" 200 -\n"
          ]
        }
      ]
    }
  ]
}